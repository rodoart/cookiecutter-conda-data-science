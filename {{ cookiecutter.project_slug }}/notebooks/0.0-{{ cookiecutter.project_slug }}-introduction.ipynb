{
 "cells": [
  {
   "cell_type": "markdown",
   "metadata": {},
   "source": [
    "# {{ cookiecutter.project_name }}\n",
    "\n",
    "---\n",
    "\n",
    "**Author:** [{{ cookiecutter.project_github }}](https://github.com/{{ cookiecutter.project_github }}/)<br>\n",
    "**Date created:** {{ cookiecutter.timestamp }}<br>\n",
    "**Last modified:** {{ cookiecutter.timestamp }}<br>\n",
    "**Description:** \n",
    "\n",
    "\n",
    "# 1. Introduction"
   ]
  },
  {
   "attachments": {},
   "cell_type": "markdown",
   "metadata": {},
   "source": [
    "## Path config\n",
    "\n",
    "The next command only will execute once, even if you run all cells multiple times."
   ]
  },
  {
   "cell_type": "code",
   "execution_count": null,
   "metadata": {},
   "outputs": [],
   "source": [
    "try:\n",
    "    ran == True\n",
    "except:   \n",
    "    from os import chdir\n",
    "    chdir('..')\n",
    "    ran = True"
   ]
  }
 ],
 "metadata": {
  "interpreter": {
   "hash": "e47e29a997a511594706f954bc82c67ba10ea8597483f3d7a4c10ce340c9f393"
  },
  "kernelspec": {
   "display_name": "Python 3.9.6 ('act3_deteccion_de_anomalias_y_tecnicas_de_agrupamiento')",
   "language": "python",
   "name": "python3"
  },
  "language_info": {
   "name": "python",
   "version": "3.9.6"
  },
  "orig_nbformat": 4
 },
 "nbformat": 4,
 "nbformat_minor": 2
}
