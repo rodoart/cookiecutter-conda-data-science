{
 "cells": [
  {
   "cell_type": "markdown",
   "metadata": {},
   "source": [
    "# {{ cookiecutter.project_name }}\n",
    "\n",
    "---\n",
    "\n",
    "**Author:** [{{ cookiecutter.project_github }}](https://github.com/{{ cookiecutter.project_github }}/)<br>\n",
    "**Date created:** 2020/07/21<br>\n",
    "**Last modified:** 2021/07/16<br>\n",
    "**Description:** \n",
    "\n",
    "\n",
    "# 1. Introduction"
   ]
  },
  {
   "cell_type": "markdown",
   "metadata": {},
   "source": [
    "## Connect and sync Google Colab with Google Drive"
   ]
  },
  {
   "cell_type": "code",
   "execution_count": null,
   "metadata": {},
   "outputs": [],
   "source": [
    "PROJECT_SLUG = '{{ cookiecutter.project_slug }}'\n",
    "DRIVE_MOUNT = \"/drive\"\n",
    "NAME = 'introduction'\n",
    "FILE_NUMBER = '0.0'\n",
    "\n",
    "REMOTE_PATH = f'{DRIVE_MOUNT}/proyects/{PROJECT_SLUG}'\n",
    "COLAB_PATH = f'{DRIVE_MOUNT}/MyDrive/Colab Notebooks'\n",
    "NOTEBOOK_NAME = f'{FILE_NUMBER}-{PROJECT_SLUG}-{NAME}.ipynb'"
   ]
  },
  {
   "cell_type": "code",
   "execution_count": null,
   "metadata": {},
   "outputs": [],
   "source": [
    "from google.colab import drive\n",
    "drive.mount(DRIVE_MOUNT)"
   ]
  },
  {
   "cell_type": "markdown",
   "metadata": {},
   "source": [
    "## Path functions"
   ]
  },
  {
   "cell_type": "code",
   "execution_count": null,
   "metadata": {},
   "outputs": [],
   "source": [
    "import sys\n",
    "sys.path.append(REMOTE_PATH)"
   ]
  },
  {
   "cell_type": "code",
   "execution_count": null,
   "metadata": {},
   "outputs": [],
   "source": [
    "from {{ cookiecutter.project_module_name }}.utils.paths import make_dir_function\n",
    "from distutils.dir_util import copy_tree"
   ]
  },
  {
   "cell_type": "code",
   "execution_count": null,
   "metadata": {},
   "outputs": [],
   "source": [
    "local_dir = make_dir_function()\n",
    "remote_dir = make_dir_function(workspace = REMOTE_PATH)\n",
    "colab_dir = make_dir_function(workspace = COLAB_PATH)"
   ]
  },
  {
   "cell_type": "markdown",
   "metadata": {},
   "source": [
    "## Update local folders"
   ]
  },
  {
   "cell_type": "code",
   "execution_count": null,
   "metadata": {},
   "outputs": [],
   "source": [
    "copy_tree(str(remote_dir()), str(local_dir()))"
   ]
  },
  {
   "cell_type": "markdown",
   "metadata": {},
   "source": [
    "## Update remote folders"
   ]
  },
  {
   "cell_type": "code",
   "execution_count": null,
   "metadata": {},
   "outputs": [],
   "source": [
    "import os\n",
    "from shutil import copy\n",
    "\n",
    "local_file_names = os.listdir(local_dir())\n",
    "for name in local_file_names:\n",
    "  if (local_dir(name).is_dir() \n",
    "      and name not in ['notebooks', 'drive', '.config', '.git', 'sample_data', 'model']):\n",
    "  \n",
    "    copy_tree(str(local_dir(name)),\n",
    "              str(remote_dir(name)))\n",
    "    \n",
    "\n",
    "  \n",
    "copy(colab_dir(NOTEBOOK_NAME), \n",
    "     remote_dir('notebooks', NOTEBOOK_NAME))"
   ]
  }
 ],
 "metadata": {
  "interpreter": {
   "hash": "e47e29a997a511594706f954bc82c67ba10ea8597483f3d7a4c10ce340c9f393"
  },
  "kernelspec": {
   "display_name": "Python 3.9.6 ('act3_deteccion_de_anomalias_y_tecnicas_de_agrupamiento')",
   "language": "python",
   "name": "python3"
  },
  "language_info": {
   "name": "python",
   "version": "3.9.6"
  },
  "orig_nbformat": 4
 },
 "nbformat": 4,
 "nbformat_minor": 2
}
